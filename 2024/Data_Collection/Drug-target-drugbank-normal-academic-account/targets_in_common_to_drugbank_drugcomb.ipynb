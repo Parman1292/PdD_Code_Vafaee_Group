{
 "cells": [
  {
   "cell_type": "code",
   "execution_count": 1,
   "id": "838e033e-e426-4a57-b111-d192af40ffb3",
   "metadata": {},
   "outputs": [],
   "source": [
    "import pandas as pd"
   ]
  },
  {
   "cell_type": "code",
   "execution_count": 12,
   "id": "63c5da33-89ec-47af-ac7a-34d332a33243",
   "metadata": {},
   "outputs": [],
   "source": [
    "drugbank_target = pd.read_csv(r\"C:\\PhD\\2024\\Data\\Drugbank\\Drugbak_Drug_targets_using_xml_Parse\\drugbank_targets_from_parse.csv\")\n",
    "drugcomb_drug_info = pd.read_csv(r\"C:\\PhD\\2024\\Data\\Drugcomb\\Drugcomb_completing_DrugbankID\\Drugs_fill_na.csv\")\n",
    "drugcombSummary = pd.read_csv(r\"C:\\PhD\\2024\\Data\\Drugcomb\\DrugComb_Summary_ReadyTo_Preprocessing.csv\", low_memory=False)"
   ]
  },
  {
   "cell_type": "code",
   "execution_count": 4,
   "id": "e821c6a6-1a32-4bb5-a982-c51a589d2eb5",
   "metadata": {},
   "outputs": [
    {
     "name": "stdout",
     "output_type": "stream",
     "text": [
      "Drugs that exist in normal_target_academic_account but not in the drugcomb drugs(Drugs having drugbank_id: 6193\n"
     ]
    }
   ],
   "source": [
    "# Drugs that exist in normal_target_academic_account but not in the drugcomb drugs(Drugs having drugbank_id)\n",
    "print(f\"Drugs that exist in normal_target_academic_account but not in the drugcomb drugs(Drugs having drugbank_id: {len(set(drugbank_target[\"DrugBank ID\"].unique()) - set(drugcomb_drug_info[\"drugbank_id\"].unique()))}\")"
   ]
  },
  {
   "cell_type": "code",
   "execution_count": 5,
   "id": "f3de4d64-bd5e-46b8-9bdc-67c39272e6d2",
   "metadata": {},
   "outputs": [
    {
     "name": "stdout",
     "output_type": "stream",
     "text": [
      "number of targets reported for an example drug cannabidivarine: 4\n"
     ]
    }
   ],
   "source": [
    "# just to check the number of targets reported for an example drug cannabidivarine that I checked in drugbank online server that has 4 drugs\n",
    "print(f\"number of targets reported for an example drug cannabidivarine: {len(drugbank_target[drugbank_target[\"DrugBank ID\"]==\"DB14050\"])}\")"
   ]
  },
  {
   "cell_type": "code",
   "execution_count": 7,
   "id": "a36b9998-97e5-42d4-8712-a22c12cd4f47",
   "metadata": {},
   "outputs": [
    {
     "name": "stdout",
     "output_type": "stream",
     "text": [
      "number of drugs used in dual therapy: 4268\n"
     ]
    }
   ],
   "source": [
    "#Dual therapy drugs in summary dataset\n",
    "\n",
    "drugcombsummarydual = drugcombSummary.dropna(subset=['drug_col'])\n",
    "drug_row_unique = set(drugcombsummarydual[\"drug_row\"].unique())\n",
    "drug_col_unique = set(drugcombsummarydual[\"drug_col\"].unique())\n",
    "\n",
    "# Union of the two sets\n",
    "all_drug_ids = drug_row_unique.union(drug_col_unique)\n",
    "\n",
    "# Print the length of the union set\n",
    "print(f\"number of drugs used in dual therapy: {len(all_drug_ids)}\")"
   ]
  },
  {
   "cell_type": "code",
   "execution_count": 9,
   "id": "2f9e463f-e0ce-4844-a2fa-53664952158e",
   "metadata": {},
   "outputs": [
    {
     "name": "stdout",
     "output_type": "stream",
     "text": [
      " summary samples: 1432351\n",
      " dual summary samples: 739964\n",
      "Number of Dual Drugs having Drugbank IDs in Drugcomb: 1902\n",
      "Number of dual Drugcomb Drug targets in drugbank: 1682\n"
     ]
    }
   ],
   "source": [
    "# Here I would like to see drug coverage and target coverage for both dual therapy from drugcomb and drugbank target academic\n",
    "\n",
    "print(f\" summary samples: {len(drugcombSummary)}\")\n",
    "drugcombsummarydual = drugcombSummary.dropna(subset=['drug_col'])\n",
    "print(f\" dual summary samples: {len(drugcombsummarydual)}\")\n",
    "dual_druginfo = drugcomb_drug_info[drugcomb_drug_info[\"dname\"].isin(\n",
    "    set(drugcombsummarydual[\"drug_row\"].unique()).union(drugcombSummary[\"drug_col\"].unique())\n",
    ")]\n",
    "dualdrugbankid_avail = drugbank_target[drugbank_target[\"DrugBank ID\"].isin(dual_druginfo[\"drugbank_id\"].unique())]\n",
    "print(f\"Number of Dual Drugs having Drugbank IDs in Drugcomb: {len(dual_druginfo[\"drugbank_id\"].unique())}\")\n",
    "print(f\"Number of dual Drugcomb Drug targets in drugbank: {len(dualdrugbankid_avail[\"UniProt ID\"].unique())}\")"
   ]
  },
  {
   "cell_type": "code",
   "execution_count": 10,
   "id": "f152d074-e56c-4573-801f-054582b69a7a",
   "metadata": {},
   "outputs": [
    {
     "name": "stdout",
     "output_type": "stream",
     "text": [
      "number of drugs being common in both drugcomb dual therapy having drugbank ID and being presented in drugban target dataset: 1326\n"
     ]
    }
   ],
   "source": [
    "dual_druginfo_ids = set(dual_druginfo[\"drugbank_id\"].unique())\n",
    "drugbank_target_ids = set(drugbank_target[\"DrugBank ID\"].unique())\n",
    "\n",
    "# Find the intersection of these sets\n",
    "common_ids = dual_druginfo_ids.intersection(drugbank_target_ids)\n",
    "\n",
    "print(f\"number of drugs being common in both drugcomb dual therapy having drugbank ID and being presented in drugban target dataset: {len(common_ids)}\")"
   ]
  },
  {
   "cell_type": "code",
   "execution_count": 9,
   "id": "5e1e10f4-aaca-4618-a170-b728e7a13cdf",
   "metadata": {},
   "outputs": [],
   "source": []
  },
  {
   "cell_type": "code",
   "execution_count": 11,
   "id": "c7c2368f-1451-4c3e-b10a-d80ea4f34e5c",
   "metadata": {},
   "outputs": [
    {
     "name": "stdout",
     "output_type": "stream",
     "text": [
      "Number of total targets in drugbank academic account reported: 5056\n",
      "Number of Drugs having Drugbank IDs in Drugcomb both single and dual therapy: 2026\n",
      "Number of Drugcomb Drug targets in drugbank(Both dual therapy and single therapy): 2506\n"
     ]
    }
   ],
   "source": [
    "drugcomb_from_drugbank_targets = drugbank_target[drugbank_target[\"DrugBank ID\"].isin(drugcomb_drug_info[\"drugbank_id\"].unique())]\n",
    "print(f\"Number of total targets in drugbank academic account reported: {len(drugbank_target[\"UniProt ID\"].unique())}\")\n",
    "print(f\"Number of Drugs having Drugbank IDs in Drugcomb both single and dual therapy: {len(drugcomb_from_drugbank_targets[\"DrugBank ID\"].unique())}\")\n",
    "print(f\"Number of Drugcomb Drug targets in drugbank(Both dual therapy and single therapy): {len(drugcomb_from_drugbank_targets[\"UniProt ID\"].unique())}\")"
   ]
  },
  {
   "cell_type": "code",
   "execution_count": null,
   "id": "640cdbcf-14ed-47c4-92e3-46be0b26c7e1",
   "metadata": {},
   "outputs": [],
   "source": []
  }
 ],
 "metadata": {
  "kernelspec": {
   "display_name": "Python 3 (ipykernel)",
   "language": "python",
   "name": "python3"
  },
  "language_info": {
   "codemirror_mode": {
    "name": "ipython",
    "version": 3
   },
   "file_extension": ".py",
   "mimetype": "text/x-python",
   "name": "python",
   "nbconvert_exporter": "python",
   "pygments_lexer": "ipython3",
   "version": "3.12.5"
  }
 },
 "nbformat": 4,
 "nbformat_minor": 5
}
