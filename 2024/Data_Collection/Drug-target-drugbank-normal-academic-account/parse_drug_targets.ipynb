{
 "cells": [
  {
   "cell_type": "code",
   "execution_count": 7,
   "id": "bf2fc185-9f44-4352-a191-ce96eff1ce71",
   "metadata": {},
   "outputs": [
    {
     "name": "stdout",
     "output_type": "stream",
     "text": [
      "      DrugBank ID UniProt ID  \\\n",
      "0         DB00001     P00734   \n",
      "1         DB00002     P00533   \n",
      "2         DB00002     O75015   \n",
      "3         DB00002     P02745   \n",
      "4         DB00002     P02746   \n",
      "...           ...        ...   \n",
      "29354     DB17992     E0W492   \n",
      "29355     DB18236     Q07912   \n",
      "29356     DB18704     Q99062   \n",
      "29357     DB18716     P37321   \n",
      "29358     DB18716     P05181   \n",
      "\n",
      "                                                    Name Gene Name    Type  \n",
      "0                                            Prothrombin        F2  Target  \n",
      "1                       Epidermal growth factor receptor      EGFR  Target  \n",
      "2      Low affinity immunoglobulin gamma Fc region re...    FCGR3B  Target  \n",
      "3                  Complement C1q subcomponent subunit A      C1QA  Target  \n",
      "4                  Complement C1q subcomponent subunit B      C1QB  Target  \n",
      "...                                                  ...       ...     ...  \n",
      "29354              Gaba-gated chloride channel, putative   8239847  Target  \n",
      "29355                           Activated CDC42 kinase 1      TNK2  Target  \n",
      "29356     Granulocyte colony-stimulating factor receptor     CSF3R  Target  \n",
      "29357             Extended-spectrum beta-lactamase PER-1      per1  Target  \n",
      "29358                                Cytochrome P450 2E1    CYP2E1  Enzyme  \n",
      "\n",
      "[29359 rows x 5 columns]\n"
     ]
    }
   ],
   "source": [
    "#This Code would parse the xml file from xml drugbank target file\n",
    "\n",
    "import xml.etree.ElementTree as ET\n",
    "import pandas as pd\n",
    "\n",
    "def parse_drugbank_xml(file_path):\n",
    "    ns = {'db': 'http://www.drugbank.ca'}\n",
    "    tree = ET.parse(file_path)\n",
    "    root = tree.getroot()\n",
    "    data = []\n",
    "\n",
    "    for drug in root.findall('db:drug', ns):\n",
    "        drugbank_id = drug.find('db:drugbank-id[@primary=\"true\"]', ns).text\n",
    "        \n",
    "        # Process targets\n",
    "        for target in drug.findall('db:targets/db:target', ns):\n",
    "            target_data = process_interaction(drugbank_id, target, ns, 'Target')\n",
    "            if target_data:\n",
    "                data.append(target_data)\n",
    "        \n",
    "        # Process carriers\n",
    "        for carrier in drug.findall('db:carriers/db:carrier', ns):\n",
    "            carrier_data = process_interaction(drugbank_id, carrier, ns, 'Carrier')\n",
    "            if carrier_data:\n",
    "                data.append(carrier_data)\n",
    "        \n",
    "        # Process enzymes\n",
    "        for enzyme in drug.findall('db:enzymes/db:enzyme', ns):\n",
    "            enzyme_data = process_interaction(drugbank_id, enzyme, ns, 'Enzyme')\n",
    "            if enzyme_data:\n",
    "                data.append(enzyme_data)\n",
    "        \n",
    "        # Process transporters\n",
    "        for transporter in drug.findall('db:transporters/db:transporter', ns):\n",
    "            transporter_data = process_interaction(drugbank_id, transporter, ns, 'Transporter')\n",
    "            if transporter_data:\n",
    "                data.append(transporter_data)\n",
    "\n",
    "    return pd.DataFrame(data)\n",
    "\n",
    "def process_interaction(drugbank_id, interaction, ns, interaction_type):\n",
    "    polypeptide = interaction.find('db:polypeptide', ns)\n",
    "    if polypeptide is not None:\n",
    "        external_ids = polypeptide.findall('db:external-identifiers/db:external-identifier', ns)\n",
    "        uniprot_id = next((e.find('db:identifier', ns).text for e in external_ids \n",
    "                           if e.find('db:resource', ns).text == 'UniProtKB'), None)\n",
    "        \n",
    "        if uniprot_id:\n",
    "            return {\n",
    "                'DrugBank ID': drugbank_id,\n",
    "                'UniProt ID': uniprot_id,\n",
    "                'Name': polypeptide.find('db:name', ns).text if polypeptide.find('db:name', ns) is not None else None,\n",
    "                'Gene Name': polypeptide.find('db:gene-name', ns).text if polypeptide.find('db:gene-name', ns) is not None else None,\n",
    "                'Type': interaction_type\n",
    "            }\n",
    "    return None\n",
    "\n",
    "# Usage\n",
    "df = parse_drugbank_xml(r\"C:\\PhD\\Data\\Drugbank_target\\drugbank_all_full_database.xml\\full database.xml\")\n",
    "print(df)\n",
    "\n",
    "# Save to CSV\n",
    "#df.to_csv('drugbank_interactions.csv', index=False)"
   ]
  },
  {
   "cell_type": "code",
   "execution_count": 12,
   "id": "1e6c43db-b9ce-44e8-8e50-702aad72cad6",
   "metadata": {},
   "outputs": [],
   "source": [
    "df.to_csv('drugbank_interactions.csv', index=False)"
   ]
  },
  {
   "cell_type": "code",
   "execution_count": 16,
   "id": "c5343453-9e4b-4206-b65f-306e1dc65df9",
   "metadata": {},
   "outputs": [
    {
     "data": {
      "text/plain": [
       "5056"
      ]
     },
     "execution_count": 16,
     "metadata": {},
     "output_type": "execute_result"
    }
   ],
   "source": [
    "#number of unique targets in the whole drugbank database(from .xml normal academic account\n",
    "len(df[\"UniProt ID\"].unique())"
   ]
  },
  {
   "cell_type": "code",
   "execution_count": 19,
   "id": "52d0badf-5b24-4650-a30c-35ce113bf71d",
   "metadata": {},
   "outputs": [
    {
     "data": {
      "text/html": [
       "<div>\n",
       "<style scoped>\n",
       "    .dataframe tbody tr th:only-of-type {\n",
       "        vertical-align: middle;\n",
       "    }\n",
       "\n",
       "    .dataframe tbody tr th {\n",
       "        vertical-align: top;\n",
       "    }\n",
       "\n",
       "    .dataframe thead th {\n",
       "        text-align: right;\n",
       "    }\n",
       "</style>\n",
       "<table border=\"1\" class=\"dataframe\">\n",
       "  <thead>\n",
       "    <tr style=\"text-align: right;\">\n",
       "      <th></th>\n",
       "      <th>DrugBank ID</th>\n",
       "      <th>UniProt ID</th>\n",
       "      <th>Name</th>\n",
       "      <th>Gene Name</th>\n",
       "      <th>Type</th>\n",
       "    </tr>\n",
       "  </thead>\n",
       "  <tbody>\n",
       "    <tr>\n",
       "      <th>21</th>\n",
       "      <td>DB00006</td>\n",
       "      <td>P00734</td>\n",
       "      <td>Prothrombin</td>\n",
       "      <td>F2</td>\n",
       "      <td>Target</td>\n",
       "    </tr>\n",
       "    <tr>\n",
       "      <th>22</th>\n",
       "      <td>DB00006</td>\n",
       "      <td>P05164</td>\n",
       "      <td>Myeloperoxidase</td>\n",
       "      <td>MPO</td>\n",
       "      <td>Enzyme</td>\n",
       "    </tr>\n",
       "  </tbody>\n",
       "</table>\n",
       "</div>"
      ],
      "text/plain": [
       "   DrugBank ID UniProt ID             Name Gene Name    Type\n",
       "21     DB00006     P00734      Prothrombin        F2  Target\n",
       "22     DB00006     P05164  Myeloperoxidase       MPO  Enzyme"
      ]
     },
     "execution_count": 19,
     "metadata": {},
     "output_type": "execute_result"
    }
   ],
   "source": [
    "df[df[\"DrugBank ID\"]==\"DB00006\"]"
   ]
  },
  {
   "cell_type": "code",
   "execution_count": null,
   "id": "05433bf4-77af-4346-9f8c-85a433dd971a",
   "metadata": {},
   "outputs": [],
   "source": []
  }
 ],
 "metadata": {
  "kernelspec": {
   "display_name": "Python 3 (ipykernel)",
   "language": "python",
   "name": "python3"
  },
  "language_info": {
   "codemirror_mode": {
    "name": "ipython",
    "version": 3
   },
   "file_extension": ".py",
   "mimetype": "text/x-python",
   "name": "python",
   "nbconvert_exporter": "python",
   "pygments_lexer": "ipython3",
   "version": "3.12.5"
  }
 },
 "nbformat": 4,
 "nbformat_minor": 5
}
